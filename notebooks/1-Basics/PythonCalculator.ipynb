{
 "cells": [
  {
   "cell_type": "markdown",
   "metadata": {},
   "source": [
    "# A Calculator coded in Python\n",
    "\n",
    "In this module, we will explore concepts of variables, numeric operations and assignment. We will also understand the importance of comments and self-documenting code.\n",
    "\n",
    "First, a review:\n",
    "\n",
    "We saw some syntax rules to end the last module:\n",
    "1. every line of code (called a _statement_) is typically on a single line. If it fits on that line, no further punctuation is needed. \n",
    "2. _functions_ execute useful code and are invoked with parentheses () after the name of the function. We have seen the `print` function so far.\n",
    "3. `string` literals are usually in single quotes ' ' or double quotes \" \"\n",
    "\n",
    "Let's add one more rule: anything on a line after the hash symbol __#__ (as long as it is not within a string literal is ignored. Huh? Why would you every want to write code that is ignored? Run the code below to complete the quiz: let's see if you can think of the reasons why we want to _comment_ things that we write in a code cell so that they don't run!"
   ]
  },
  {
   "cell_type": "code",
   "execution_count": null,
   "metadata": {
    "scrolled": true
   },
   "outputs": [],
   "source": [
    "from IPython.display import IFrame    \n",
    "IFrame('https://h5p.org/h5p/embed/430668', width=800, height=283, frameborder=\"0\")"
   ]
  },
  {
   "cell_type": "markdown",
   "metadata": {},
   "source": []
  }
 ],
 "metadata": {
  "kernelspec": {
   "display_name": "Python 3",
   "language": "python",
   "name": "python3"
  },
  "language_info": {
   "codemirror_mode": {
    "name": "ipython",
    "version": 3
   },
   "file_extension": ".py",
   "mimetype": "text/x-python",
   "name": "python",
   "nbconvert_exporter": "python",
   "pygments_lexer": "ipython3",
   "version": "3.7.1"
  }
 },
 "nbformat": 4,
 "nbformat_minor": 2
}
