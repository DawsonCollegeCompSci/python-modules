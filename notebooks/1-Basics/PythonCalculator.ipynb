{
 "cells": [
  {
   "cell_type": "markdown",
   "metadata": {
    "colab_type": "text",
    "id": "fuwBXFAzosve"
   },
   "source": [
    "# Calculations in Python\n",
    "\n",
    "In this module, we will explore concepts of variables, numeric operations and assignment. We will also understand the importance of comments and self-documenting code.\n",
    "\n",
    "First, a review:\n",
    "\n",
    "We saw some syntax rules to end the last module:\n",
    "1. every line of code (called a _statement_) is typically on a single line. If it fits on that line, no further punctuation is needed. \n",
    "2. _functions_ execute useful code and are invoked with parentheses () after the name of the function. We have seen the `print` function so far.\n",
    "3. `string` literals are usually in single quotes ' ' or double quotes \" \"\n",
    "\n",
    "Let's add one more rule: anything on a line after the hash symbol __#__ (as long as it is not within a string literal is ignored. Huh? Why would you every want to write code that is ignored? Run the code below to complete the quiz: let's see if you can think of the reasons why we want to _comment_ things that we write in a code cell so that they don't run! Run the quiz below:"
   ]
  },
  {
   "cell_type": "code",
   "execution_count": 0,
   "metadata": {
    "colab": {},
    "colab_type": "code",
    "id": "z9rw5DZCosvg",
    "scrolled": true
   },
   "outputs": [],
   "source": [
    "from IPython.display import IFrame    \n",
    "IFrame('https://h5p.org/h5p/embed/430668', width=800, height=283, frameborder=\"0\")"
   ]
  },
  {
   "cell_type": "markdown",
   "metadata": {
    "colab_type": "text",
    "id": "7D7tyQHzosvl"
   },
   "source": [
    "Let's look at the code in the numerous code cells below, which are commented so you can undertstand the. We will be looking at some of Python's arithmetic operations. Guess what the answer should be, then run each code cell. (nb: even though we didn't use the `print` function, these expressions are evaluated and the result is displayed. We will very rarely code this way)"
   ]
  },
  {
   "cell_type": "code",
   "execution_count": 0,
   "metadata": {
    "colab": {},
    "colab_type": "code",
    "id": "GlWgH5Q-osvn"
   },
   "outputs": [],
   "source": [
    "# simple addition\n",
    "2 + 3"
   ]
  },
  {
   "cell_type": "code",
   "execution_count": 0,
   "metadata": {
    "colab": {},
    "colab_type": "code",
    "id": "32Mm7pykosvs"
   },
   "outputs": [],
   "source": [
    "# subtraction\n",
    "2 - 3"
   ]
  },
  {
   "cell_type": "code",
   "execution_count": 0,
   "metadata": {
    "colab": {},
    "colab_type": "code",
    "id": "MbZvrjF6osvw"
   },
   "outputs": [],
   "source": [
    "# multiplication\n",
    "2 * 3"
   ]
  },
  {
   "cell_type": "code",
   "execution_count": 0,
   "metadata": {
    "colab": {},
    "colab_type": "code",
    "id": "KhWrTZRBosv0"
   },
   "outputs": [],
   "source": [
    "# division\n",
    "3 / 2"
   ]
  },
  {
   "cell_type": "code",
   "execution_count": 0,
   "metadata": {
    "colab": {},
    "colab_type": "code",
    "id": "nlL8ZopPosv5"
   },
   "outputs": [],
   "source": [
    "# exponential\n",
    "2 ** 3"
   ]
  },
  {
   "cell_type": "markdown",
   "metadata": {
    "colab_type": "text",
    "id": "646VBWW8osv9"
   },
   "source": [
    "Did you get all the answers? Expontential means 2 to the power of 3, or 2 ^ 3, which is (2*2*2)"
   ]
  },
  {
   "cell_type": "code",
   "execution_count": 0,
   "metadata": {
    "colab": {},
    "colab_type": "code",
    "id": "FlhssTTGosv9"
   },
   "outputs": [],
   "source": [
    "# order of precedence - no parenthesis\n",
    "4 + 5 * 3"
   ]
  },
  {
   "cell_type": "code",
   "execution_count": 0,
   "metadata": {
    "colab": {},
    "colab_type": "code",
    "id": "C0tl_JQBoswE"
   },
   "outputs": [],
   "source": [
    "# order of precedence - with parenthesis\n",
    "(4 + 5) * 3"
   ]
  },
  {
   "cell_type": "markdown",
   "metadata": {
    "colab_type": "text",
    "id": "2zhey7tZoswP"
   },
   "source": [
    "Remember the [order of precedence rules](https://en.wikibooks.org/wiki/Arithmetic/Order_of_Operations) when evaluating arithmetic operations:\n",
    "1. Parentheses\n",
    "2. Exponents\n",
    "3. Multiplication and division (equal in precedence)\n",
    "4. addition and subtraction (equal in precedence)\n",
    "\n",
    "When two operations at equal level of precedence are in an expression, evaluate them starting from left to right. "
   ]
  },
  {
   "cell_type": "code",
   "execution_count": 0,
   "metadata": {
    "colab": {},
    "colab_type": "code",
    "id": "JhE9mEZCoswQ"
   },
   "outputs": [],
   "source": [
    "# integer division\n",
    "5 // 2"
   ]
  },
  {
   "cell_type": "markdown",
   "metadata": {
    "colab_type": "text",
    "id": "oFTWpPvaoswV"
   },
   "source": [
    "Integer division finds out how many times the denominator can entirely fit into the numerator. 2 can fit twice into 5 entirely, so the answer is `2`"
   ]
  },
  {
   "cell_type": "code",
   "execution_count": 0,
   "metadata": {
    "colab": {},
    "colab_type": "code",
    "id": "h2d4FBGOoswW"
   },
   "outputs": [],
   "source": [
    "# remainder\n",
    "5 % 2"
   ]
  },
  {
   "cell_type": "markdown",
   "metadata": {
    "colab_type": "text",
    "id": "z_0FqEKDoswa"
   },
   "source": [
    "Why does `5 % 2` evaluate to 1? `%` is the remainder or modulus operator. It works as follows: it checks how many time 2 can fit in 5 entirely, which is twice. What was leftover in the 5 that didn't fit into 2? The answer, `1`\n",
    "\n",
    "Here's another way to think about remainder: think about how a [clock works](https://en.wikipedia.org/wiki/Modular_arithmetic). \"If the time is 7:00 now, then 8 hours later it will be 3:00. Usual addition would suggest that the later time should be 7 + 8 = 15, but this is not the answer because clock time \"wraps around\" every 12 hours. Because the hour number starts over after it reaches 12, this is arithmetic modulo 12.\" In a formula, I would represent this clock arithmetic as `(7 + 8) % 12` Write this expression in any of the code cells, run it and see what your answer is.\n",
    "\n",
    "# Exercises\n",
    "\n",
    "Feel free to use the code block below to test your answers.\n",
    "\n",
    "1. To what does 9 ** 1/2 evaluate? Can you explain why?\n",
    "\n",
    "2. How would you write the expression to calculate the square root of 9?\n",
    "\n",
    "3. The volume of a sphere with radius r is $\\frac{{4\\pi r^3 }}{3}$. What is the volume of a sphere with diameter 6.65 cm? For the value of $\\pi$ use 3.14159 (for now). Compare your answer with the solution up to 4 decimal numbers.\n",
    "\n"
   ]
  },
  {
   "cell_type": "code",
   "execution_count": 0,
   "metadata": {
    "colab": {},
    "colab_type": "code",
    "collapsed": true,
    "id": "WnsckUSBoswc"
   },
   "outputs": [],
   "source": []
  },
  {
   "cell_type": "markdown",
   "metadata": {
    "colab_type": "text",
    "id": "j97seOrWoswh"
   },
   "source": [
    "Answers below, click on Show Code to see"
   ]
  },
  {
   "cell_type": "code",
   "execution_count": 0,
   "metadata": {
    "cellView": "form",
    "colab": {},
    "colab_type": "code",
    "id": "KX1_eNCUoswi"
   },
   "outputs": [],
   "source": [
    "#@title \n",
    "# 1\n",
    " 4.5\n",
    "# 2\n",
    " 9 ** (1/2)\n",
    "# 3 - the expression:\n",
    " ( 4 * 3.14159 * (6.65/2) ** 3) / 3\n",
    "# 3 - the answer:\n",
    " 153.9796"
   ]
  }
 ],
 "metadata": {
  "colab": {
   "name": "Copy of PythonCalculator.ipynb",
   "provenance": [
    {
     "file_id": "https://github.com/DawsonCollegeCompSci/python-modules/blob/master/notebooks/1-Basics/PythonCalculator.ipynb",
     "timestamp": 1550108550944
    }
   ],
   "version": "0.3.2"
  },
  "kernelspec": {
   "display_name": "Python 3",
   "language": "python",
   "name": "python3"
  },
  "language_info": {
   "codemirror_mode": {
    "name": "ipython",
    "version": 3
   },
   "file_extension": ".py",
   "mimetype": "text/x-python",
   "name": "python",
   "nbconvert_exporter": "python",
   "pygments_lexer": "ipython3",
   "version": "3.7.1"
  }
 },
 "nbformat": 4,
 "nbformat_minor": 1
}
