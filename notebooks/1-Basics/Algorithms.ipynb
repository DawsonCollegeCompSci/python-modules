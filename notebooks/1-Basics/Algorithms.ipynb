{
 "cells": [
  {
   "cell_type": "markdown",
   "metadata": {},
   "source": [
    "# What is programming and what are algorithms?\n",
    "\n",
    "Run the code box below and go through the presentation and the interactive quiz! How do you _execute_ code in this course? You are running this in Google's Colaboratory environment, preferably on Chrome. Place your cursor over the \\[ \\] on the right-hand-side of the code cell below and notice that you get the Run icon to run the cell' code.\n",
    "\n",
    "You will likely get a Warning that the notebook is not authored by Google; click on Run Anyway.\n",
    "\n",
    "You will get a second pop-up asking if you should reset all runtimes; click Yes.\n",
    "\n",
    "These two warnings happen the first time you run code in a notebook in a browser tab.\n",
    "\n",
    "Chrome is the recommended browser. If you are running on FireFox, you may get more errors (for example, an error related to third-party cookies. Click on OK).\n",
    "Don't be too concerned about the code in the cell (if you are curious, all it is doing is displaying content from another website)."
   ]
  },
  {
   "cell_type": "code",
   "execution_count": null,
   "metadata": {},
   "outputs": [],
   "source": [
    "from IPython.display import IFrame    \n",
    "IFrame('https://h5p.org/h5p/embed/430771', width=800, height=638, frameborder=\"0\")"
   ]
  }
 ],
 "metadata": {
  "kernelspec": {
   "display_name": "Python 3",
   "language": "python",
   "name": "python3"
  },
  "language_info": {
   "codemirror_mode": {
    "name": "ipython",
    "version": 3
   },
   "file_extension": ".py",
   "mimetype": "text/x-python",
   "name": "python",
   "nbconvert_exporter": "python",
   "pygments_lexer": "ipython3",
   "version": "3.7.1"
  }
 },
 "nbformat": 4,
 "nbformat_minor": 2
}
