{
 "cells": [
  {
   "cell_type": "raw",
   "metadata": {},
   "source": [
    "<script>\n",
    "  jQuery(document).ready(function($) {\n",
    "\n",
    "  $(window).load(function(){\n",
    "    $('#preloader').fadeOut('slow',function(){$(this).remove();});\n",
    "  });\n",
    "\n",
    "  });\n",
    "</script>\n",
    "\n",
    "<style type=\"text/css\">\n",
    "  div#preloader { position: fixed;\n",
    "      left: 0;\n",
    "      top: 0;\n",
    "      z-index: 999;\n",
    "      width: 100%;\n",
    "      height: 100%;\n",
    "      overflow: visible;\n",
    "      background: #fff url('http://preloaders.net/preloaders/720/Moving%20line.gif') no-repeat center center;\n",
    "  }\n",
    "\n",
    "</style>\n",
    "\n",
    "<div id=\"preloader\"></div>"
   ]
  },
  {
   "cell_type": "markdown",
   "metadata": {},
   "source": [
    "Your first program\n",
    "---\n",
    "You guessed it - it's [Hello World](https://en.wikipedia.org/wiki/%22Hello,_World!%22_program)! If you are new to programming, it may be the first time you heard of \"Hello World\" but it's not the last, it is the quintessential first program. Here it is in Python:\n"
   ]
  },
  {
   "cell_type": "code",
   "execution_count": null,
   "metadata": {},
   "outputs": [],
   "source": [
    "print(\"Hello world!\")"
   ]
  },
  {
   "cell_type": "markdown",
   "metadata": {},
   "source": [
    "That's all: your first Python program is 1 line of code.\n",
    "\n",
    "How do you _execute_ your program? Click on the __Execute on Binder__ icon (second from right on top) <img src='logo.svg'/>\n",
    "\n",
    "The Binder service will start after a minute or so: this allows you to run the code on the page (called a Notebook). Notice you have a button in the top menu called Run. Put the cursor in the code cell (i.e., the gray box with the line of code) and press Run.\n",
    "\n",
    "Notice that the output is shown uder the code cell: you asked to print \"Hello World\" so it was written below.\n",
    "  \n",
    "You are using a `print` _function_. We pass _arguments_ to functions between the parentheses brackets, the function takes the arguments and does something with them. In this case, `print` displays the argument to the screen.\n",
    "  \n",
    "Why aren't the quotation marks showing if it displayed the argument \"Hello world!\"? Good question! The argument in this case is a `string` which basically mean a sequence of characters, ot text. The series of characters between the quotation marks are used as the string.\n",
    "\n",
    "What would happen if you ran Hello World without the quotation marks?\n",
    "\n",
    " <a href='https://nbviewer.jupyter.org/github/DawsonCollegeCompSci/python-modules/blob/master/notebooks/1-Basics/firstapp2.ipynb'><button type=\"button\">Next</button> </a>"
   ]
  },
  {
   "cell_type": "code",
   "execution_count": null,
   "metadata": {},
   "outputs": [],
   "source": [
    "print(Hello World!)"
   ]
  },
  {
   "cell_type": "raw",
   "metadata": {},
   "source": [
    "<script>\n",
    "  function code_toggle1() {\n",
    "    if (code1_shown){\n",
    "      $('#firstapp2').hide('500');\n",
    "      $('#toggleButton').val('Show')\n",
    "    } else {\n",
    "      $('div.input').show('500');\n",
    "      $('#toggleButton').val('Hide')\n",
    "    }\n",
    "    code1_shown = !code1_shown\n",
    "  }\n",
    "\n",
    "  $( document ).ready(function(){\n",
    "    code1_shown=false;\n",
    "    $('#firstapp2').hide()\n",
    "  });\n",
    "</script>\n",
    "<form action=\"javascript:code_toggle1()\"><input type=\"submit\" id=\"toggleButton\" value=\"Show\"></form>"
   ]
  },
  {
   "cell_type": "markdown",
   "metadata": {},
   "source": [
    "<div id=\"firstapp2\">\n",
    "Remember, to run any code in this course, make sure you are in Binder. If not, first click on the __Execute on Binder__ icon (second from right on top) <img src='logo.svg'/>\n",
    "\n",
    "Put the cursor in the code cell (i.e., the gray box with the line of code) and press Run in the top menu.\n",
    "\n",
    "Hmmm, you get an error message. Your first in this course, and not your last as you become a programmer!\n",
    "\n",
    "`SyntaxError: invalid syntax`\n",
    "\n",
    "A syntax error means that you didn't follow the rules of the language. The quotation marks are important, because they indicate that the characters between them are to be treated as a string - we call this a _string literal_. When you don't have the quotation marks, Python thinks that you are referring to a _function_ or a _variable_, for example, and can't find one. We'll revisit these concepts soon.\n",
    "\n",
    "Fix the error by adding the quotation marks, and press run.\n",
    "\n",
    "  <a href='https://nbviewer.jupyter.org/github/DawsonCollegeCompSci/python-modules/blob/master/notebooks/1-Basics/firstapp.ipynb'><button type=\"button\">Previous</button> </a>\n",
    " <a href='https://nbviewer.jupyter.org/github/DawsonCollegeCompSci/python-modules/blob/master/notebooks/1-Basics/firstapp3.ipynb'><button type=\"button\">Next</button> </a>"
   ]
  },
  {
   "cell_type": "raw",
   "metadata": {},
   "source": [
    "<script>\n",
    "  function code_toggle() {\n",
    "    if (code_shown){\n",
    "      $('div.input').hide('500');\n",
    "      $('#toggleButton').val('Show Code')\n",
    "    } else {\n",
    "      $('div.input').show('500');\n",
    "      $('#toggleButton').val('Hide Code')\n",
    "    }\n",
    "    code_shown = !code_shown\n",
    "  }\n",
    "\n",
    "  $( document ).ready(function(){\n",
    "    code_shown=false;\n",
    "    $('div.input').hide()\n",
    "  });\n",
    "</script>\n",
    "<form action=\"javascript:code_toggle()\"><input type=\"submit\" id=\"toggleButton\" value=\"Show Code\"></form>"
   ]
  }
 ],
 "metadata": {
  "kernelspec": {
   "display_name": "Python 3",
   "language": "python",
   "name": "python3"
  },
  "language_info": {
   "codemirror_mode": {
    "name": "ipython",
    "version": 3
   },
   "file_extension": ".py",
   "mimetype": "text/x-python",
   "name": "python",
   "nbconvert_exporter": "python",
   "pygments_lexer": "ipython3",
   "version": "3.7.1"
  }
 },
 "nbformat": 4,
 "nbformat_minor": 2
}
