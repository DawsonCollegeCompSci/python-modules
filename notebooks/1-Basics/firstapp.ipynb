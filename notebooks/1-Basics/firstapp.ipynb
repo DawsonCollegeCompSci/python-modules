{
 "cells": [
  {
   "cell_type": "markdown",
   "metadata": {},
   "source": [
    "# Your first program\n",
    "\n",
    "You guessed it - it's [Hello World](https://en.wikipedia.org/wiki/%22Hello,_World!%22_program)! If you are new to programming, it may be the first time you heard of \"Hello World\" but it's not the last, it is the quintessential first program. Here it is in Python:\n"
   ]
  },
  {
   "cell_type": "code",
   "execution_count": null,
   "metadata": {},
   "outputs": [],
   "source": [
    "print(\"Hello world!\")"
   ]
  },
  {
   "cell_type": "markdown",
   "metadata": {},
   "source": [
    "That's all: your first Python program is 1 line of code.\n",
    "\n",
    "How do you _execute_ your program? Click on the __Execute on Binder__ icon (second from right on top) <img src='logo.svg'/>\n",
    "\n",
    "The Binder service will start after a minute or so: this allows you to run the code on the page (called a Notebook). Notice you have a button in the top menu called Run. Put the cursor in the code cell (i.e., the gray box with the line of code) and press Run.\n",
    "\n",
    "Notice that the output is shown uder the code cell: you asked to print \"Hello World\" so it was written below.\n",
    "  \n",
    "You are using a `print` _function_. We pass _arguments_ to functions between the parentheses brackets, the function takes the arguments and does something with them. In this case, `print` displays the argument to the screen.\n",
    "  \n",
    "Why aren't the quotation marks showing if it displayed the argument \"Hello world!\"? Good question! The argument in this case is a `string` which basically mean a sequence of characters, ot text. The series of characters between the quotation marks are used as the string.\n",
    "\n",
    "What would happen if you ran Hello World without the quotation marks?\n"
   ]
  },
  {
   "cell_type": "code",
   "execution_count": null,
   "metadata": {},
   "outputs": [],
   "source": [
    "print(Hello World!)"
   ]
  },
  {
   "cell_type": "markdown",
   "metadata": {},
   "source": [
    "### What happens?\n",
    "Remember, to run any code in this course, make sure you are in Binder. If not, first click on the __Execute on Binder__ icon (second from right on top) <img src='logo.svg'/>\n",
    "\n",
    "Put the cursor in the code cell (i.e., the gray box with the line of code) and press Run in the top menu.\n",
    "\n",
    "Hmmm, you get an error message. Your first in this course, and not your last as you become a programmer!\n",
    "\n",
    "`SyntaxError: invalid syntax`\n",
    "\n",
    "A syntax error means that you didn't follow the rules of the language. The quotation marks are important, because they indicate that the characters between them are to be treated as a string - we call this a _string literal_. When you don't have the quotation marks, Python thinks that you are referring to a _function_ or a _variable_, for example, and can't find one. We'll revisit these concepts soon.\n",
    "\n",
    "Fix the error by adding the quotation marks, and press run."
   ]
  }
 ],
 "metadata": {
  "kernelspec": {
   "display_name": "Python 3",
   "language": "python",
   "name": "python3"
  },
  "language_info": {
   "codemirror_mode": {
    "name": "ipython",
    "version": 3
   },
   "file_extension": ".py",
   "mimetype": "text/x-python",
   "name": "python",
   "nbconvert_exporter": "python",
   "pygments_lexer": "ipython3",
   "version": "3.7.1"
  }
 },
 "nbformat": 4,
 "nbformat_minor": 2
}
