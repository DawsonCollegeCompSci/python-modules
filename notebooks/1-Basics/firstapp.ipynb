{
 "cells": [
  {
   "cell_type": "markdown",
   "metadata": {},
   "source": [
    "# Your first program\n",
    "\n",
    "You guessed it - it's [Hello World](https://en.wikipedia.org/wiki/%22Hello,_World!%22_program)! If you are new to programming, it may be the first time you heard of \"Hello World\" but it's not the last, it is the quintessential first program. Here it is in Python:\n"
   ]
  },
  {
   "cell_type": "code",
   "execution_count": null,
   "metadata": {},
   "outputs": [],
   "source": [
    "print(\"Hello world!\")"
   ]
  },
  {
   "cell_type": "markdown",
   "metadata": {},
   "source": [
    "That's all: your first Python program is 1 line of code.\n",
    "\n",
    "How do you _execute_ your program? You are running this in Google's Colaboratory environment, preferably on Chrome. Place your cursor over the \\[ \\] on the right-hand-side of the code cell above and notice that you get the Run icon to run the cell' code.\n",
    "\n",
    "You will likely get a Warning that the notebook is not authored by Google; click on Run Anyway.\n",
    "\n",
    "You will get a second pop-up asking if you should reset all runtimes; click Yes.\n",
    "\n",
    "These two warnings happen the first time you run code in a notebook in a browser tab.\n",
    "\n",
    "Chrome is the recommended browser. If you are running on FireFox, you may get more errors (for example, an error related to third-party cookies. Click on OK).\n",
    "\n",
    "Once the code runs, notice that the output is shown under the code cell: you asked to print \"Hello World\" so it was written below.\n",
    "  \n",
    "You are using a `print` _function_. A function is responsible for executing some code: in the case of the `print` function, it is responsible for writing to the screen. We pass _arguments_ to functions between the parentheses brackets, the function takes the arguments and does something with them. In this case, `print` displays the argument to the screen.\n",
    "  \n",
    "Why aren't the quotation marks showing if it displayed the argument \"Hello world!\"? Good question! The argument in this case is a `string` which basically mean a sequence of characters, ot text. The series of characters between the quotation marks are used as the string.\n",
    "\n",
    "What would happen if you ran Hello World without the quotation marks?\n"
   ]
  },
  {
   "cell_type": "code",
   "execution_count": null,
   "metadata": {},
   "outputs": [],
   "source": [
    "print(Hello World!)"
   ]
  },
  {
   "cell_type": "markdown",
   "metadata": {},
   "source": [
    "What happens? Remember, to run any code in this course, place your cursor over the \\[\\] on the right-hand-side of the code cell and press Run.\n",
    "\n",
    "# What happened?\n",
    "\n",
    "Hmmm, you get an error message. If you are using Firefox, you may be waiting a long time; switch to Chrome. \n",
    "\n",
    "This error message may be your first in this course, and not your last as you become a programmer!\n",
    "\n",
    "`SyntaxError: invalid syntax`\n",
    "\n",
    "A syntax error means that you didn't follow the rules of the language. The quotation marks are important, because they indicate that the characters between them are to be treated as a string - we call this a _string literal_. When you don't have the quotation marks, Python thinks that you are referring to a _function_ or a _variable_, for example, and can't find one. We'll revisit these concepts soon.\n",
    "\n",
    "Fix the error by adding the quotation marks, and press run."
   ]
  },
  {
   "cell_type": "markdown",
   "metadata": {},
   "source": [
    "# Test your knowledge\n",
    "\n",
    "Run the code box below and complete the interactive quiz! Don't be too concerned about the code in the cell (if you are curious, all it is doing is displaying content from another website)."
   ]
  },
  {
   "cell_type": "code",
   "execution_count": null,
   "metadata": {
    "scrolled": false
   },
   "outputs": [],
   "source": [
    "from IPython.display import IFrame    \n",
    "IFrame('https://h5p.org/h5p/embed/427924', width=800, height=313, frameborder=\"0\")"
   ]
  },
  {
   "cell_type": "markdown",
   "metadata": {},
   "source": [
    "# Syntax\n",
    "\n",
    "A last word on syntax: You saw a few syntactical rules of the Python language. Like any language, Python has \"grammar\" rules and \"punctuation\" rules. Here are the rules that you saw in the single line of code:\n",
    "1. every line of code (called a _statement_) is typically on a line. If it fits on that line, no further punctuation is needed. This is unlike other programming languages like C++, Java, and JavaScript\n",
    "2. _functions_ run segments of useful code, and are invoked with parentheses () after the name of the function. You might have _arguments_ between the parentheses (like `print` which had a string between the parentheses).\n",
    "3. `string` literals have be within single quotes ' ', double quotes \" \", or triple quotes \"\"\" \"\"\" or ''' '''. We will discuss the difference in a later module. For now, feel free to use either ' ' or \" \"\n",
    "\n",
    "# End of first program module\n",
    "\n",
    "Click on Next to continue. \n",
    "\n",
    "<a href='https://colab.research.google.com/github/DawsonCollegeCompSci/python-modules/blob/master/notebooks/1-Basics/firstapp.ipynb'><button type=\\\"button\\\">Next</button> </a>"
   ]
  }
 ],
 "metadata": {
  "kernelspec": {
   "display_name": "Python 3",
   "language": "python",
   "name": "python3"
  },
  "language_info": {
   "codemirror_mode": {
    "name": "ipython",
    "version": 3
   },
   "file_extension": ".py",
   "mimetype": "text/x-python",
   "name": "python",
   "nbconvert_exporter": "python",
   "pygments_lexer": "ipython3",
   "version": "3.7.1"
  }
 },
 "nbformat": 4,
 "nbformat_minor": 2
}
