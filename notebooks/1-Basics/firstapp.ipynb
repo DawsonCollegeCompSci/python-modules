{
 "cells": [
  {
   "cell_type": "markdown",
   "metadata": {},
   "source": [
    "Your first program\n",
    "---\n",
    "You guessed it - it's [Hello World](https://en.wikipedia.org/wiki/%22Hello,_World!%22_program)! If you are new to programming, it may be the first time you heard of \"Hello World\" but it's not the last, it is the quintessential first program. Here it is in Python:\n"
   ]
  },
  {
   "cell_type": "code",
   "execution_count": null,
   "metadata": {},
   "outputs": [],
   "source": [
    "print(\"Hello world!\")"
   ]
  },
  {
   "cell_type": "markdown",
   "metadata": {},
   "source": [
    "To run this program, launch binder:\n",
    "\n",
    "That's all: your first Python program is 1 line of code. What is happening?\n",
    "  \n",
    "You are using a `print` _function_. We pass _arguments_ to functions between the parentheses brackets, the function takes the arguments and does something with them. In this case, `print` displays the argument to the screen.\n",
    "  \n",
    "Why aren't the quotation marks showing if it displayed the argument \"Hello world!\"? Good question! The argument in this case is a `string` which basically mean a sequence of characters, ot text. The series of characters between the quotation marks are used as the string."
   ]
  }
 ],
 "metadata": {
  "kernelspec": {
   "display_name": "Python 3",
   "language": "python",
   "name": "python3"
  },
  "language_info": {
   "codemirror_mode": {
    "name": "ipython",
    "version": 3
   },
   "file_extension": ".py",
   "mimetype": "text/x-python",
   "name": "python",
   "nbconvert_exporter": "python",
   "pygments_lexer": "ipython3",
   "version": "3.7.1"
  }
 },
 "nbformat": 4,
 "nbformat_minor": 2
}
