{
 "cells": [
  {
   "cell_type": "markdown",
   "metadata": {},
   "source": [
    "What would happen if you ran Hello World without the quotation marks?"
   ]
  },
  {
   "cell_type": "code",
   "execution_count": null,
   "metadata": {},
   "outputs": [],
   "source": [
    "print(Hello World!)"
   ]
  },
  {
   "cell_type": "markdown",
   "metadata": {},
   "source": []
  },
  {
   "cell_type": "markdown",
   "metadata": {},
   "source": [
    "Hmmm, it didn't work. The quotation marks are important, because they indicate that the characters between them are to be treated as a string - we call this a _string literal_. When you don't have the quotation marks, Python thinks that you are referring to a _function_ or a _variable_, for example. We'll see these concepts soon.\n",
    "\n",
    "  <a href='https://nbviewer.jupyter.org/github/DawsonCollegeCompSci/python-modules/blob/master/notebooks/1-Basics/firstapp.ipynb'><button type=\"button\">Previous</button> </a>\n",
    " <a href='https://nbviewer.jupyter.org/github/DawsonCollegeCompSci/python-modules/blob/master/notebooks/1-Basics/firstapp3.ipynb'><button type=\"button\">Next</button> </a>"
   ]
  }
 ],
 "metadata": {
  "kernelspec": {
   "display_name": "Python 3",
   "language": "python",
   "name": "python3"
  },
  "language_info": {
   "codemirror_mode": {
    "name": "ipython",
    "version": 3
   },
   "file_extension": ".py",
   "mimetype": "text/x-python",
   "name": "python",
   "nbconvert_exporter": "python",
   "pygments_lexer": "ipython3",
   "version": "3.7.1"
  }
 },
 "nbformat": 4,
 "nbformat_minor": 2
}
