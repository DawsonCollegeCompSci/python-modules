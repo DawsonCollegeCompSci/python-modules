{
 "cells": [
  {
   "cell_type": "markdown",
   "metadata": {},
   "source": [
    "What would happen if you ran Hello World without the quotation marks?"
   ]
  },
  {
   "cell_type": "code",
   "execution_count": null,
   "metadata": {},
   "outputs": [],
   "source": [
    "print(Hello World!)"
   ]
  },
  {
   "cell_type": "markdown",
   "metadata": {},
   "source": [
    "Hmmm, it didn't work, there is no output shown. Don't believe me? Try running it on your own:\n",
    "\n",
    "Click on the __Execute on Binder__ icon (second from right on top) <img src='logo.svg'/>\n",
    "\n",
    "The Binder service will start: this allows you to run the code on the page (called a Notebook). Notice you have a button in the top menu called Run. Put the cursor in the code cell (i.e., the gray box with the line of code) and press run.\n",
    "\n",
    "You get an error message\n",
    "\n",
    "`SyntaxError: invalid syntax`\n",
    "\n",
    "A syntax error means that you didn't follow the rules of the language. The quotation marks are important, because they indicate that the characters between them are to be treated as a string - we call this a _string literal_. When you don't have the quotation marks, Python thinks that you are referring to a _function_ or a _variable_, for example, and can't find one. We'll revisit these concepts soon.\n",
    "\n",
    "Fix the error by adding the quotation marks, and press run.\n",
    "\n",
    "  <a href='https://nbviewer.jupyter.org/github/DawsonCollegeCompSci/python-modules/blob/master/notebooks/1-Basics/firstapp.ipynb'><button type=\"button\">Previous</button> </a>\n",
    " <a href='https://nbviewer.jupyter.org/github/DawsonCollegeCompSci/python-modules/blob/master/notebooks/1-Basics/firstapp3.ipynb'><button type=\"button\">Next</button> </a>"
   ]
  }
 ],
 "metadata": {
  "kernelspec": {
   "display_name": "Python 3",
   "language": "python",
   "name": "python3"
  },
  "language_info": {
   "codemirror_mode": {
    "name": "ipython",
    "version": 3
   },
   "file_extension": ".py",
   "mimetype": "text/x-python",
   "name": "python",
   "nbconvert_exporter": "python",
   "pygments_lexer": "ipython3",
   "version": "3.7.1"
  }
 },
 "nbformat": 4,
 "nbformat_minor": 2
}
