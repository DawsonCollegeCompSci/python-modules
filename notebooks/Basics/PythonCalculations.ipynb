{
 "cells": [
  {
   "cell_type": "markdown",
   "metadata": {
    "colab_type": "text",
    "id": "fuwBXFAzosve"
   },
   "source": [
    "# Calculations in Python\n",
    "\n",
    "In this module, we will explore concepts of variables, numeric operations and assignment. We will also understand the importance of comments and self-documenting code.\n",
    "\n",
    "First, a review:\n",
    "\n",
    "We saw some syntax rules in the last module:\n",
    "1. every line of code (called a _statement_) is typically on a single line. If it fits on that line, no further punctuation is needed. \n",
    "2. _functions_ execute useful code and are invoked with parentheses () after the name of the function. We have seen the `print` function so far.\n",
    "3. string literals are usually in single quotes ' ' or double quotes \" \"\n",
    "\n",
    "Let's add one more rule: anything on a line after the hash symbol __#__ (as long as it is not within a string literal is ignored. Huh? Why would you every want to write code that is ignored? Run the code below to complete the quiz: let's see if you can think of the reasons why we want to _comment_ things that we write in a code cell so that they don't run! Run the quiz below:"
   ]
  },
  {
   "cell_type": "code",
   "execution_count": null,
   "metadata": {
    "colab": {},
    "colab_type": "code",
    "id": "z9rw5DZCosvg",
    "scrolled": true
   },
   "outputs": [],
   "source": [
    "#@title Why comments?\n",
    "#@markdown This presentation and quiz explains the usefulness of comments:\n",
    "from IPython.display import IFrame    \n",
    "IFrame('https://h5p.org/h5p/embed/430668', width=800, height=283, frameborder=\"0\")"
   ]
  },
  {
   "cell_type": "markdown",
   "metadata": {
    "colab_type": "text",
    "id": "7D7tyQHzosvl"
   },
   "source": [
    "Let's look at the code in the numerous code cells below, which are commented so you can undertstand the. We will be looking at some of Python's arithmetic operations. Guess what the answer should be, then run each code cell. (nb: even though we didn't use the `print` function, these expressions are evaluated and the result is displayed. We will very rarely code this way)"
   ]
  },
  {
   "cell_type": "code",
   "execution_count": null,
   "metadata": {
    "colab": {},
    "colab_type": "code",
    "id": "GlWgH5Q-osvn"
   },
   "outputs": [],
   "source": [
    "# simple addition\n",
    "2 + 3"
   ]
  },
  {
   "cell_type": "code",
   "execution_count": null,
   "metadata": {
    "colab": {},
    "colab_type": "code",
    "id": "32Mm7pykosvs"
   },
   "outputs": [],
   "source": [
    "# subtraction\n",
    "2 - 3"
   ]
  },
  {
   "cell_type": "code",
   "execution_count": null,
   "metadata": {
    "colab": {},
    "colab_type": "code",
    "id": "MbZvrjF6osvw"
   },
   "outputs": [],
   "source": [
    "# multiplication\n",
    "2 * 3"
   ]
  },
  {
   "cell_type": "code",
   "execution_count": null,
   "metadata": {
    "colab": {},
    "colab_type": "code",
    "id": "KhWrTZRBosv0"
   },
   "outputs": [],
   "source": [
    "# division\n",
    "3 / 2"
   ]
  },
  {
   "cell_type": "code",
   "execution_count": null,
   "metadata": {
    "colab": {},
    "colab_type": "code",
    "id": "nlL8ZopPosv5"
   },
   "outputs": [],
   "source": [
    "# exponential\n",
    "2 ** 3"
   ]
  },
  {
   "cell_type": "markdown",
   "metadata": {
    "colab_type": "text",
    "id": "646VBWW8osv9"
   },
   "source": [
    "Did you get all the answers? Expontential means 2 to the power of 3, or 2 ^ 3, which is (2*2*2)"
   ]
  },
  {
   "cell_type": "code",
   "execution_count": null,
   "metadata": {
    "colab": {},
    "colab_type": "code",
    "id": "FlhssTTGosv9"
   },
   "outputs": [],
   "source": [
    "# order of precedence - no parenthesis\n",
    "4 + 5 * 3"
   ]
  },
  {
   "cell_type": "code",
   "execution_count": null,
   "metadata": {
    "colab": {},
    "colab_type": "code",
    "id": "C0tl_JQBoswE"
   },
   "outputs": [],
   "source": [
    "# order of precedence - with parenthesis\n",
    "(4 + 5) * 3"
   ]
  },
  {
   "cell_type": "markdown",
   "metadata": {
    "colab_type": "text",
    "id": "2zhey7tZoswP"
   },
   "source": [
    "Remember the [order of precedence rules](https://en.wikibooks.org/wiki/Arithmetic/Order_of_Operations) when evaluating arithmetic operations:\n",
    "1. Parentheses\n",
    "2. Exponents\n",
    "3. Multiplication and division (equal in precedence)\n",
    "4. addition and subtraction (equal in precedence)\n",
    "\n",
    "When two operations at equal level of precedence are in an expression, evaluate them starting from left to right. "
   ]
  },
  {
   "cell_type": "code",
   "execution_count": null,
   "metadata": {
    "colab": {},
    "colab_type": "code",
    "id": "JhE9mEZCoswQ"
   },
   "outputs": [],
   "source": [
    "# integer division\n",
    "5 // 2"
   ]
  },
  {
   "cell_type": "markdown",
   "metadata": {
    "colab_type": "text",
    "id": "oFTWpPvaoswV"
   },
   "source": [
    "Integer division finds out how many times the denominator can entirely fit into the numerator. 2 can fit twice into 5 entirely, so the answer is `2`"
   ]
  },
  {
   "cell_type": "code",
   "execution_count": null,
   "metadata": {
    "colab": {},
    "colab_type": "code",
    "id": "h2d4FBGOoswW"
   },
   "outputs": [],
   "source": [
    "# remainder\n",
    "5 % 2"
   ]
  },
  {
   "cell_type": "markdown",
   "metadata": {
    "colab_type": "text",
    "id": "z_0FqEKDoswa"
   },
   "source": [
    "Why does `5 % 2` evaluate to 1? `%` is the remainder or modulus operator. It works as follows: it checks how many time 2 can fit in 5 entirely, which is twice. What was leftover in the 5 that didn't fit into 2? The answer, `1`\n",
    "\n",
    "Here's another way to think about remainder: think about how a [clock works](https://en.wikipedia.org/wiki/Modular_arithmetic). \"If the time is 7:00 now, then 8 hours later it will be 3:00. Usual addition would suggest that the later time should be 7 + 8 = 15, but this is not the answer because clock time \"wraps around\" every 12 hours. Because the hour number starts over after it reaches 12, this is arithmetic modulo 12.\" In a formula, I would represent this clock arithmetic as `(7 + 8) % 12` Write this expression in any of the code cells, run it and see what your answer is.\n",
    "\n",
    "# Exercises\n",
    "\n",
    "Feel free to use the code block below to test your answers.\n",
    "\n",
    "1. To what does 9 ** 1/2 evaluate? Can you explain why?\n",
    "\n",
    "2. How would you write the expression to calculate the square root of 9?\n",
    "\n",
    "3. The volume of a sphere with radius r is $\\frac{{4\\pi r^3 }}{3}$. What is the volume of a sphere with diameter 6.65 cm? For the value of $\\pi$ use 3.14159 (for now). Compare your answer with the solution up to 4 decimal numbers.\n",
    "\n"
   ]
  },
  {
   "cell_type": "code",
   "execution_count": null,
   "metadata": {
    "colab": {},
    "colab_type": "code",
    "id": "WnsckUSBoswc"
   },
   "outputs": [],
   "source": [
    "#your example code below\n"
   ]
  },
  {
   "cell_type": "markdown",
   "metadata": {
    "colab_type": "text",
    "id": "j97seOrWoswh"
   },
   "source": [
    "Answers below, click on Show Code to see"
   ]
  },
  {
   "cell_type": "code",
   "execution_count": null,
   "metadata": {
    "cellView": "form",
    "colab": {},
    "colab_type": "code",
    "id": "KX1_eNCUoswi"
   },
   "outputs": [],
   "source": [
    "#@title \n",
    "# 1\n",
    " 4.5\n",
    "# 2\n",
    " 9 ** (1/2)\n",
    "# 3 - the expression:\n",
    " ( 4 * 3.14159 * (6.65/2) ** 3) / 3\n",
    "# 3 - the answer:\n",
    " 153.9796"
   ]
  },
  {
   "cell_type": "markdown",
   "metadata": {},
   "source": [
    "# Variables\n",
    "\n",
    "In the discussion above, we performed single calculations and had the result displayed. This is not a typical way of coding. We usually perform one of multiple operations (not just arithmetic) in order to solve a particular problem. Variables allow us to remember the result of an operation so that we can use it later. In very specific terms, a variable is a named location in memory, where the location contains some kind of data; the data can be numeric, or a string, or something else (we will see lots of other `data types` soon). You can think of a variable as a name or label that you assign to a location in memory, and this location can change over time.\n",
    "\n",
    "Example:"
   ]
  },
  {
   "cell_type": "code",
   "execution_count": 6,
   "metadata": {},
   "outputs": [],
   "source": [
    "radius = 6.65 / 2"
   ]
  },
  {
   "cell_type": "markdown",
   "metadata": {},
   "source": [
    "The `=` sign is called the _assignment_ operator. It is *not* _equality_ like you may have seen in mathematical expression, where you can freely move elements from one side of the equality sign to the other with the goal of 'solving' for a variable. _Assignment_  means that the expression on the right-hand-side of the assignment operator is evaluated, and the result is placed in a memory position named with the variable `radius`. The variable `radius` is bound to that value."
   ]
  },
  {
   "cell_type": "code",
   "execution_count": 3,
   "metadata": {},
   "outputs": [
    {
     "name": "stdout",
     "output_type": "stream",
     "text": [
      "153.97960151729168\n"
     ]
    }
   ],
   "source": [
    "pi = 3.14159\n",
    "volume = (4 * pi * radius ** 3) / 3\n",
    "print(volume)"
   ]
  },
  {
   "cell_type": "markdown",
   "metadata": {},
   "source": [
    "Run the code cell above: if you did not run the previous cell, you will have an error `NameError: name 'radius' is not defined`\n",
    "\n",
    "# Notebook tips\n",
    "Let's stop to understand what is happening:\n",
    "\n",
    "1. As we have already seen, a code cell contains code that is executed, with output displayed below\n",
    "2. Notice that when you run a code cell, the label to the left changes from [ ] to [_x_] where _x_ is a label number indicating when the cell was executed. _When_ refers to the order in which cells where executed, not the time, so the label will start at 1 and increment. If you run the same cell again, the label will change to be the next number. Basically, the execution environment (also called the _kernel_) keeps track of the _order of execution_\n",
    "3. Order of execution is an important concept: basically, in a program, statements are executed sequentially. The order makes a difference, just as the order in a recipe makes a difference. In the case of a notebook, the fact that the statements are in sequential code cells is not sufficient, these code cells need to be executed in the correct order\n",
    "4. In the code cell above, we see 3 statements. These statements are executed in chronological order when the code cell runs\n",
    "5. Notice the Python syntax: the statements are on separate lines, which no punctuation (e.g., ;) to indicate the end of the statement. Although you could put statements on the same line with `;` as a separator, it is not a recommended practice.\n",
    "6. So, why the error? The second statement in the code cell refers to the variable `radius` which was introduced in a previous cell. As far as the kernel knows, `radius` is not a variable.\n",
    "\n",
    "How do you fix this? Run the cell that defines `radius`, then the cell above.\n",
    "\n",
    "If the code that you write in a notebook should be run in a sequentially, go to the Runtime menu and select Run all (do not do that for this notebook though). Sometimes you need to go back and make some changes; but when you run a cell it may be still referring to stale data (i.e., the order of execution is not as you expect). In that case, go to Runtime and select Restart runtime or Restart and run all. This restarts the kernel, so all the variable values and output will be cleared. If the kernel gets stuck, you can Interrupt execution.\n",
    "\n",
    "# Binding and Rebinding\n",
    "You may want to change the value to which a variable is bound. For example, you can re-bind the variable `radius` using a new assignment statement. The previous value of `radius` may still stored in memory but you have lost the handle for it, so you cannot access it and it eventually will be freed/overwritten with new data. Note that the value for `volume` does not change until you do the calculation again. In other words, when we ran the line of code to calculate volume, it calcumated the values of the variables and performed the arithmetic. The variable `volume` is not bound in any way to the variable `radius`, sowhen you change the value of radius later, the value of `volume` does not automatically change. Run the code below to see this point; `volume` will remain 153.979...."
   ]
  },
  {
   "cell_type": "code",
   "execution_count": null,
   "metadata": {},
   "outputs": [],
   "source": [
    "radius = 7\n",
    "print(volume)"
   ]
  },
  {
   "cell_type": "markdown",
   "metadata": {},
   "source": [
    "\n",
    "# Variable naming rules and conventions\n",
    "\n",
    "Variables can have upper and lowercase letters, underscores and digits (although they cannot start with a digit). They are case-sensitive, as are the names of functions and other identifiers. This means that `Hi` and `hi` refer to two different things. You cannot name a variable with one of Python's [keywords](https://docs.python.org/3/reference/lexical_analysis.html#keywords). For example, you cannot call a variable `else`. You should also avoid calling variables with the same name as a data type (str or int, for example) to avoid confusion.\n",
    "Always try to name your variables with names that describe your intent. Your code will be much easier for another programmer to understand, including future-you! By convention, variable names are lowercase with underscores to separate words. Try not to be overly wordy."
   ]
  },
  {
   "cell_type": "markdown",
   "metadata": {},
   "source": [
    "# Data types and strong vs weak, static vs dynamic\n",
    "\n",
    "This section is recommended for experienced programmers. You may not understand it completely if you are a novice.\n",
    "\n",
    "Examine the code below: what do you think will happen when you run it? Once you have an idea, run the code. Did it function as expected?"
   ]
  },
  {
   "cell_type": "code",
   "execution_count": 7,
   "metadata": {},
   "outputs": [
    {
     "name": "stdout",
     "output_type": "stream",
     "text": [
      "3.325\n",
      "half the diameter\n"
     ]
    }
   ],
   "source": [
    "print (radius)\n",
    "radius = 'half the diameter'\n",
    "print(radius)"
   ]
  },
  {
   "cell_type": "markdown",
   "metadata": {},
   "source": [
    "You should see a number printed followed by a string. If you have already programmed before with a language like Java, this may surprise you. Python is a _dynamically_ typed language. When we first used radius, we did not declare a type like we would in Java; a variable in Python is _bound_ to an object when we perform an assignment. It is not bound to a type though, so the type of the object can change as we perform other assignments. Just about everything in Python is an object: numbers and string for example. A mathematical expression like `2 * 7` evaluates to a number, so it is also an object.\n",
    "\n",
    "What does is mean to be an object? It means that most types have 'attributes' and 'methods'. See the code cell below for an example of a method: a _method_ is basically a function that is invoked on an object. the `__abs__` method returns the absolute value of `a` which is then assigned into `b`"
   ]
  },
  {
   "cell_type": "code",
   "execution_count": 18,
   "metadata": {},
   "outputs": [
    {
     "name": "stdout",
     "output_type": "stream",
     "text": [
      "5\n"
     ]
    }
   ],
   "source": [
    "a = -5\n",
    "b = a.__abs__()\n",
    "print(b)"
   ]
  },
  {
   "cell_type": "markdown",
   "metadata": {},
   "source": [
    "So Python is a _dynamically_ typed language, meaning that you don't declare your variables and you can assign any type to any variable. Java, for example, is _statically_ typed; you must declare the type of a variable first, and then you can only assign compatible types into the variable.\n",
    "\n",
    "Python is also a _strongly_ typed language. This means that there is no type _coercion_ or automatic conversion between unrelated types. Languages like Perl and PHP are weakly typed, whereas Java is also strongly typed. For example, the code below would work in PHP since it will automatically convert strings to numbers, but it causes an error in Python:"
   ]
  },
  {
   "cell_type": "code",
   "execution_count": 19,
   "metadata": {},
   "outputs": [
    {
     "ename": "TypeError",
     "evalue": "can only concatenate str (not \"int\") to str",
     "output_type": "error",
     "traceback": [
      "\u001b[1;31m---------------------------------------------------------------------------\u001b[0m",
      "\u001b[1;31mTypeError\u001b[0m                                 Traceback (most recent call last)",
      "\u001b[1;32m<ipython-input-19-d2dd5ca1ad45>\u001b[0m in \u001b[0;36m<module>\u001b[1;34m\u001b[0m\n\u001b[0;32m      1\u001b[0m \u001b[1;31m# PHP would evaluate b to 130 due to automatic type conversion, or juggling\u001b[0m\u001b[1;33m\u001b[0m\u001b[1;33m\u001b[0m\u001b[1;33m\u001b[0m\u001b[0m\n\u001b[1;32m----> 2\u001b[1;33m \u001b[0mb\u001b[0m \u001b[1;33m=\u001b[0m \u001b[1;34m'123'\u001b[0m \u001b[1;33m+\u001b[0m \u001b[1;36m7\u001b[0m\u001b[1;33m\u001b[0m\u001b[1;33m\u001b[0m\u001b[0m\n\u001b[0m",
      "\u001b[1;31mTypeError\u001b[0m: can only concatenate str (not \"int\") to str"
     ]
    }
   ],
   "source": [
    "# PHP would evaluate b to 130 due to automatic type conversion, or juggling\n",
    "b = '123' + 7"
   ]
  },
  {
   "cell_type": "markdown",
   "metadata": {},
   "source": [
    "To avoid the error in Python, you must explicitly convert the string to a number. This is the mark of a _strongly_ typed language, which generally results in less bugs and security exploits.\n",
    "\n",
    "# Python - Some data types\n",
    "\n",
    "A Python variable is bound to an object which has a _type_. Some common types that we will see often:\n",
    "- an integer value, meaning a whole number, is an `int`. Integers have unlimited precision (known as _arbitrary precision_). As you can imagine, they are not really unlimited since at some point you will run out of physical memory. Unlike languages like Java, you do not need to worry about overflow errors\n",
    "- a floating point number, meaning a number with a floating decimal point, is a `float`. These are usually implemented as double-precision numbers so they have a limit in size and precision (similar to Java `double`). The implementation is in binary, which leads to computational errors (for example, you cannot represent the number 1/10 exactly in binary, just as you cannot represent 1/3 exactly with a decimal number). This leads to errors that can accumulate.\n",
    "- a `Decimal` is like a `float` expect that the numbers are represented exactly. So 0.1 will not have any error associated with it. In addition, the programmer can specify the precision required (number of decimal places).\n",
    "- a text sequence is a `str`, pronounced as string.\n",
    "\n",
    "\n",
    "# Finding the type of a variable\n",
    "\n",
    "Since Python is dynamically typed, you may not know what is the type of the object to which it refers. The `type` function returns the object's type. Consider the code below; the first line is called `import` statement. This allows the code that is executed after this statement to be able to access code that is in another _module_. A _module_ is a way by which Python code is packaged. The `from` clause specifies the module and the `import` clause specifies that we want to use the imported content as if it belonged to the code cell (more technically, it is brought into scope without requiringing qualification). We are importing the  `decimal` module below in order to use the `Decimal` data type that is defined in the module. In Case 5 below, the syntax Decimal('1.1') is converting the `str` 1.1 into a `decimal`.\n",
    "\n",
    "Look through the cases below, and try to guess what will be printed. \n",
    "\n",
    "Run the examples in the code cell below:"
   ]
  },
  {
   "cell_type": "code",
   "execution_count": 49,
   "metadata": {},
   "outputs": [
    {
     "name": "stdout",
     "output_type": "stream",
     "text": [
      "Case 1 <class 'int'>\n",
      "Case 2 <class 'int'>\n",
      "Case 3 <class 'float'>\n",
      "Case 4 <class 'float'> 3.3000000000000003\n",
      "Case 5 <class 'decimal.Decimal'> 3.3\n",
      "Case 6 <class 'str'>\n",
      "Case 7 <class 'str'> helloworld\n",
      "Case 8 <class 'str'> 1234\n"
     ]
    },
    {
     "ename": "TypeError",
     "evalue": "unsupported operand type(s) for +: 'int' and 'str'",
     "output_type": "error",
     "traceback": [
      "\u001b[1;31m---------------------------------------------------------------------------\u001b[0m",
      "\u001b[1;31mTypeError\u001b[0m                                 Traceback (most recent call last)",
      "\u001b[1;32m<ipython-input-49-fef255cc48f7>\u001b[0m in \u001b[0;36m<module>\u001b[1;34m\u001b[0m\n\u001b[0;32m     34\u001b[0m \u001b[1;33m\u001b[0m\u001b[0m\n\u001b[0;32m     35\u001b[0m \u001b[1;31m# Case 9: adding a string with numeric characters and an integer\u001b[0m\u001b[1;33m\u001b[0m\u001b[1;33m\u001b[0m\u001b[1;33m\u001b[0m\u001b[0m\n\u001b[1;32m---> 36\u001b[1;33m \u001b[0mtest\u001b[0m \u001b[1;33m=\u001b[0m \u001b[1;36m123\u001b[0m \u001b[1;33m+\u001b[0m \u001b[1;34m'4'\u001b[0m\u001b[1;33m\u001b[0m\u001b[1;33m\u001b[0m\u001b[0m\n\u001b[0m\u001b[0;32m     37\u001b[0m \u001b[0mprint\u001b[0m\u001b[1;33m(\u001b[0m\u001b[1;34m'Case 9'\u001b[0m\u001b[1;33m,\u001b[0m \u001b[0mtype\u001b[0m\u001b[1;33m(\u001b[0m\u001b[0mtest\u001b[0m\u001b[1;33m)\u001b[0m\u001b[1;33m,\u001b[0m \u001b[0mtest\u001b[0m\u001b[1;33m)\u001b[0m\u001b[1;33m\u001b[0m\u001b[1;33m\u001b[0m\u001b[0m\n\u001b[0;32m     38\u001b[0m \u001b[1;33m\u001b[0m\u001b[0m\n",
      "\u001b[1;31mTypeError\u001b[0m: unsupported operand type(s) for +: 'int' and 'str'"
     ]
    }
   ],
   "source": [
    "from decimal import Decimal\n",
    "\n",
    "# Case 1: whole number\n",
    "num = 1234\n",
    "print('Case 1', type(num))\n",
    "\n",
    "# Case 2: whole number beyond 4 byte range\n",
    "num = 1234567890123456789\n",
    "print('Case 2', type(num))\n",
    "\n",
    "# Case 3: number with a decimal point\n",
    "num = 1.\n",
    "print('Case 3', type(num))\n",
    "\n",
    "# Case 4: float\n",
    "num = 1.1 + 2.2\n",
    "print('Case 4', type(num), num)\n",
    "\n",
    "#Case 5: decimal\n",
    "num = Decimal('1.1') + Decimal('2.2')\n",
    "print('Case 5', type(num), num)\n",
    "\n",
    "# Case 6: str\n",
    "num = '1234'\n",
    "print('Case 6', type(num))\n",
    "\n",
    "# Case 7: adding 2 strings: + is a concatentation or join operator with strings\n",
    "greeting = 'hello' + 'world'\n",
    "print('Case 7', type(greeting), greeting)\n",
    "\n",
    "# Case 8: adding a 2 strings with numeric characters\n",
    "test = '123' + '4'\n",
    "print('Case 8', type(test), test)\n",
    "\n",
    "# Case 9: adding a string with numeric characters and an integer\n",
    "test = 123 + '4'\n",
    "print('Case 9', type(test), test)\n",
    "\n"
   ]
  },
  {
   "cell_type": "markdown",
   "metadata": {},
   "source": [
    "Lets consider the cases. \n",
    "Case 2 shows how the `int` data type will automatically expland to hold very large numbers.\n",
    "Case 3 shows how the presence of the decimal point changes a literal to a `float` even if you would consider it to be a whole number since nothing is specified after the decimal point.\n",
    "Case 4 demonstrates the issues that you can run into with the `float` type, namely some numbers are approximated which can lead to small errors. Over time, these errors can accumulate and become signification.\n",
    "Case 5 shows the use of the `Decimal` type. The same calculation is done, but this time with no error\n",
    "Case 7 and 8 show how the `+` operator is overloaded: when you add two strings together, it basically joins the two strings together.\n",
    "Case 9 resulted in an error: because Python is strongly typed, the strng is not converted to an int and the int is not converted to a string automatically. Notice that Python is more strongly typed than Java!\n",
    "\n",
    "Run the code cell below to take a quiz to test what we have seen to far!"
   ]
  },
  {
   "cell_type": "code",
   "execution_count": null,
   "metadata": {},
   "outputs": [],
   "source": [
    "#TODO quiz"
   ]
  },
  {
   "cell_type": "markdown",
   "metadata": {},
   "source": [
    "# Finding out more information about a variable\n",
    "\n",
    "This section is recommended for experienced programmers. You may not understand it completely if you are a novice.\n",
    "\n",
    "The `id` function returns the identity of the variable - think of it as the memory location of the object to which the variable is bound.\n",
    "\n",
    "Consider the code below. `a` and `b` are two variables, each bound to different integers. What do you think will happens when `a = b`?"
   ]
  },
  {
   "cell_type": "code",
   "execution_count": 26,
   "metadata": {},
   "outputs": [
    {
     "name": "stdout",
     "output_type": "stream",
     "text": [
      "140726996743280\n",
      "140726996743120\n",
      "after b=a statement\n",
      "140726996743280\n",
      "140726996743280\n"
     ]
    }
   ],
   "source": [
    "a = 10\n",
    "b = 5\n",
    "print (id(a))\n",
    "print (id(b))\n",
    "b = a\n",
    "print('after b=a statement')\n",
    "print (id(a))\n",
    "print (id(b))"
   ]
  },
  {
   "cell_type": "markdown",
   "metadata": {},
   "source": [
    "The exact ids will vary every time you run the code cell, but notice that initially `a` and `b` are names of different memory locations (the ids are different). After the statement `b = a`, they both refer to the same location. Why?\n",
    "\n",
    "Remember, a variable in Python is _bound_ to an object when we perform an assignment. So `b = a` binds the same object to `b` as the one bound by `a`; both `a` and `b` refer to the same place in memory. You can think of `b` as now being an alias for `a`. Assignment between variables never creates a new object, it just binds both variables to the same object.\n",
    "\n",
    "If you are used to a language like Java, this is an important difference. Java has the notion of _primitive_ data types, where the variable contains the value directly.  With Java, `a` and `b` will be distinct variables, each containing the same value.\n",
    "\n",
    "What do you think will happen when you run the next code cell? Notice that we are using a new version of the print function: we are sending two arguments to print in `print( a, id(a) )`: this will print the value of a followed by a space followed by the id of a. You can send any number of arguments the the `print` function as long as they are separated by a comma. Make sure the code cell above has run first before running the code below."
   ]
  },
  {
   "cell_type": "code",
   "execution_count": 29,
   "metadata": {},
   "outputs": [
    {
     "name": "stdout",
     "output_type": "stream",
     "text": [
      "50 140726996744560\n",
      "10 140726996743280\n"
     ]
    }
   ],
   "source": [
    "a = 50\n",
    "print (a, id(a))\n",
    "print (b, id(b))"
   ]
  },
  {
   "cell_type": "markdown",
   "metadata": {},
   "source": [
    "You may have guessed that `b` changed also when you assigned 50 to a since they were referring to the same object before. But `b` remains unchanged from the previous code block since you didn't assign anything to it. `a` on the other hand is bound to a different object now."
   ]
  }
 ],
 "metadata": {
  "colab": {
   "name": "Copy of PythonCalculator.ipynb",
   "provenance": [
    {
     "file_id": "https://github.com/DawsonCollegeCompSci/python-modules/blob/master/notebooks/1-Basics/PythonCalculator.ipynb",
     "timestamp": 1550108550944
    }
   ],
   "version": "0.3.2"
  },
  "kernelspec": {
   "display_name": "Python 3",
   "language": "python",
   "name": "python3"
  },
  "language_info": {
   "codemirror_mode": {
    "name": "ipython",
    "version": 3
   },
   "file_extension": ".py",
   "mimetype": "text/x-python",
   "name": "python",
   "nbconvert_exporter": "python",
   "pygments_lexer": "ipython3",
   "version": "3.7.1"
  }
 },
 "nbformat": 4,
 "nbformat_minor": 1
}
