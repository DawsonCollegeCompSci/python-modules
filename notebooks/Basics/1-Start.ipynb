{
 "cells": [
  {
   "cell_type": "markdown",
   "metadata": {},
   "source": [
    "# Introduction to the course\n",
    "Welcome to this introductory course **Starting Programming with Python**! If you already have a foundation in programming, you may want to skip directly to **Python for Java Programmers** which covers basic topics much quicker:\n",
    "\n",
    "<a href='https://colab.research.google.com/github/DawsonCollegeCompSci/python-modules/blob/master/notebooks/Experienced/1-basicsyntax.ipynb'><button type=\\\"button\\\">Python for Java Programmers</button> </a>\n",
    "\n",
    "# About Notebooks\n",
    "\n",
    "The document you are reading is a Jupyter notebook, hosted in Google's Colaboratory. It is an interactive environment that lets you write and execute code in Python. You require a Google Drive if you want to save code that you write within any notebook, then use the File menu to save the modified notebook to Google Drive. Choose File→Save a copy in Drive and follow the resulting prompts. You can then later reopen it through the File→Open... menu.\n",
    "\n",
    "\n",
    "# What is programming and what are algorithms?\n",
    "\n",
    "Run the code box below and go through the presentation and the interactive quiz! How do you _execute_ code in this course? You are running this in Google's Colaboratory environment, preferably on Chrome. Place your cursor over the \\[ \\] on the right-hand-side of the code cell below and notice that you get the Run icon to run the cell's code.\n",
    "\n",
    "You will likely get a Warning that the notebook is not authored by Google; click on **Run Anyway**.\n",
    "\n",
    "You will get a second pop-up asking if you should reset all runtimes; click **Yes**.\n",
    "\n",
    "These two warnings happen the first time you run code in a notebook in a browser tab.\n",
    "\n",
    "Chrome is the recommended browser. If you are running on FireFox, you may get more errors (for example, an error related to third-party cookies. Click on OK).\n",
    "Don't be too concerned about the code in the cell (if you are curious, all it is doing is displaying content from another website).\n",
    "\n",
    "Once the presentation opens, go through the slides and the quiz."
   ]
  },
  {
   "cell_type": "code",
   "execution_count": 1,
   "metadata": {
    "scrolled": true
   },
   "outputs": [
    {
     "data": {
      "text/html": [
       "\n",
       "        <iframe\n",
       "            width=\"800\"\n",
       "            height=\"500\"\n",
       "            src=\"https://h5p.org/h5p/embed/430771?frameborder=0\"\n",
       "            frameborder=\"0\"\n",
       "            allowfullscreen\n",
       "        ></iframe>\n",
       "        "
      ],
      "text/plain": [
       "<IPython.lib.display.IFrame at 0x1fc02719ac8>"
      ]
     },
     "execution_count": 1,
     "metadata": {},
     "output_type": "execute_result"
    }
   ],
   "source": [
    "#@title Introducing algorithms\n",
    "#@markdown This presentation and quiz gives an overview of algorithms:\n",
    "from IPython.display import IFrame    \n",
    "IFrame('https://h5p.org/h5p/embed/430771', width=800, height=500, frameborder=\"0\")"
   ]
  },
  {
   "cell_type": "markdown",
   "metadata": {},
   "source": [
    "# What is Python\n",
    "\n",
    "From [Wikipedia](https://en.wikipedia.org/wiki/Python_(programming_language)) \"Python is an interpreted, high-level, general-purpose programming language.\"\n",
    "\n",
    "Let's explore each adjective:\n",
    "\n",
    "Interpreted: the programming language does not require an intermediate compilation step, to convert the code from the code that the programmer writes to machine-language instructions. Scripting languages are typically interpreted, since individual statements can be executed. Python is a scripting language: you will notice through this course that we often will executed a few lines of code without requiring any boilerplate.\n",
    "Other scripting languages that you may know or have heard of: bash, perl, php, javascript\n",
    "Other interpreted languages: java (which compiles to byte code, not to machine language), C#\n",
    "\n",
    "High-level: the language is \"abstracted\" from the particularities of the system on which it is running. For example, Python and some other high-level languages completely remove the need for the programmer to manage memory (through something called \"garbage collection').\n",
    "\n",
    "General-purpose: Python can be used to in many software development projects. In fact, it has a rich set of modules in both the standard library and third-party packages and extensions to facilitate many different types of tasks. Some examples where it is used:\n",
    "1. Scientific computing\n",
    "2. Data science and machine learning (e.g., TensorFlow, Keras and PyTorch)\n",
    "3. Web applications (using frameworks like Flask or Django)\n",
    "4. scripting, both for automation and application scripting (e.g., Maya)\n",
    "5. desktop applications\n",
    "6. game prototyping and development\n",
    "7. embedded systems (e.g., Raspberry Pi)\n",
    "\n",
    "# Versions\n",
    "\n",
    "Python 3 was released in 2008 and is not backwards compatible to Python 2. You may run into Python2.7 code on occasion; however this course will only use Python3 latest version.\n",
    "\n",
    "\n",
    "# Programming paradigms\n",
    "\n",
    "There are a few programming paradigms supported by Python:\n",
    "1. object-oriented, through classes and multiple inheritance. Note that there are no interfaces in Python. Since variables are not statically declared, polymorphic behaviour is straightforward\n",
    "2. imperative. Code constructs that indicate how to implement an algorithm, and change the state of the variables are supported: this includes the statements with assignments and expressions, loops and conditional blocks.\n",
    "3. procedural/structured. Code is broken into modules, such as functions.\n",
    "4. functional. Functions are treated as first-class entities, meaning that they can be used the same way as other datatypes, including passing as arguments to other functions. The functional style also includes concepts like iterators/generators, map and filter, and closures.\n",
    "\n",
    "# Goal of these tutorials\n",
    "\n",
    "Through the course of these tutorials and assignments, we will be solving different problems associated with life expectancy and health. The topic was chosen because it should be of interest to everyone! So let's get started!\n",
    "\n"
   ]
  },
  {
   "cell_type": "markdown",
   "metadata": {},
   "source": [
    "# End of the introduction module\n",
    "\n",
    "Click on Next to continue with the **Starting Programming with Python** tutorials. \n",
    "\n",
    "<a href='https://colab.research.google.com/github/DawsonCollegeCompSci/python-modules/blob/master/notebooks/1-Basics/firstapp.ipynb'><button type=\\\"button\\\">Next</button> </a>"
   ]
  }
 ],
 "metadata": {
  "kernelspec": {
   "display_name": "Python 3",
   "language": "python",
   "name": "python3"
  },
  "language_info": {
   "codemirror_mode": {
    "name": "ipython",
    "version": 3
   },
   "file_extension": ".py",
   "mimetype": "text/x-python",
   "name": "python",
   "nbconvert_exporter": "python",
   "pygments_lexer": "ipython3",
   "version": "3.7.1"
  }
 },
 "nbformat": 4,
 "nbformat_minor": 2
}
