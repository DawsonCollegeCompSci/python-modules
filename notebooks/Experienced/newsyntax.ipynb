{
 "cells": [
  {
   "cell_type": "markdown",
   "metadata": {},
   "source": [
    "Let's look some new control flow syntax, followed by lists and tuples, and finally ending with user defined functions. Buckle up!\n",
    "\n",
    "# Control flow\n",
    "\n",
    "## else with a loop\n",
    "Loops can have else clauses! Huh? The `else` clause is triggered when the loop condition becomes False. Perhaps you are thinking that the only way to exit a loop is through a False condition - you are forgetting about the `break` statement. Basically if you exit a loop due to `break`, the `else` clause will not run. This allows code like this (examine first, then run):"
   ]
  },
  {
   "cell_type": "code",
   "execution_count": null,
   "metadata": {},
   "outputs": [],
   "source": [
    "# From Python3 tutorial at https://docs.python.org/3/tutorial/controlflow.html\n",
    "# Prints out the prime numbers or the first multiples between 2 and 9\n",
    "for n in range(2, 10):\n",
    "    for x in range(2, n):\n",
    "        if n % x == 0:\n",
    "            #x is a divisor of n\n",
    "            print(n, 'equals', x, '*', n//x)\n",
    "            break #found the divisor, break out of the inner loop\n",
    "    else:\n",
    "        # inner loop completed without the break, therefore there was no divisor between 2 and n-1\n",
    "        print(n, 'is a prime number')"
   ]
  },
  {
   "cell_type": "markdown",
   "metadata": {},
   "source": [
    "# Lists\n",
    "\n",
    "There aren't arrays in Python. Instead there are lists and tuples. Lists are:\n",
    "\n",
    "- a collection of items\n",
    "- the items can have different data types, but they are usually homogeneous (i.e., the same data type. It is very rare to see lists with muxed types, usually a tuple is used for that.\n",
    "- lists use square bracket syntax `[ ]`\n",
    "- you can iterate through a list with a `for` loop\n",
    "- lists are mutable: meaning that you can gane elements in the list. Elements are indexed from 0 to the length of the list-1\n",
    "- if you index with a negative index, the element is counted in reverse order from the end of the list\n",
    "- The `len` function returns the list length\n",
    "- the `print` function is compatible with lists."
   ]
  },
  {
   "cell_type": "code",
   "execution_count": 12,
   "metadata": {},
   "outputs": [
    {
     "name": "stdout",
     "output_type": "stream",
     "text": [
      "[18, 21, 20, 17, 25]\n",
      "[81, 21, 20, 17, 25]\n",
      "[81, 21, 20, 57, 25]\n",
      "[82, 21, 20, 57, 25]\n"
     ]
    }
   ],
   "source": [
    "ages = [18, 21, 20, 17, 25]\n",
    "print(ages)\n",
    "ages[0] = 81\n",
    "print(ages)\n",
    "ages[-2] = 57\n",
    "print(ages)\n",
    "ages[-len(ages)] = 82 #negative of the length of the list is the first element 0\n",
    "print(ages)"
   ]
  },
  {
   "cell_type": "markdown",
   "metadata": {},
   "source": [
    "There are lots of cool thing you can do with lists. Some of them are demonstrated below:"
   ]
  },
  {
   "cell_type": "code",
   "execution_count": 13,
   "metadata": {},
   "outputs": [
    {
     "name": "stdout",
     "output_type": "stream",
     "text": [
      "[57, 25]\n",
      "[82, 21, 20, 57, 25]\n",
      "[82, 21, 20, 57, 25]\n",
      "[82, 21, 20, 57, 25, 82, 21, 20, 57, 25]\n",
      "[82, 21, 60, 50, 25]\n"
     ]
    },
    {
     "ename": "IndexError",
     "evalue": "list assignment index out of range",
     "output_type": "error",
     "traceback": [
      "\u001b[1;31m---------------------------------------------------------------------------\u001b[0m",
      "\u001b[1;31mIndexError\u001b[0m                                Traceback (most recent call last)",
      "\u001b[1;32m<ipython-input-13-b9b95d9f49f2>\u001b[0m in \u001b[0;36m<module>\u001b[1;34m\u001b[0m\n\u001b[0;32m     17\u001b[0m \u001b[1;33m\u001b[0m\u001b[0m\n\u001b[0;32m     18\u001b[0m \u001b[1;31m# Note that this will cause an error. The index must be between -length of the list and length of list-1\u001b[0m\u001b[1;33m\u001b[0m\u001b[1;33m\u001b[0m\u001b[1;33m\u001b[0m\u001b[0m\n\u001b[1;32m---> 19\u001b[1;33m \u001b[0mages\u001b[0m\u001b[1;33m[\u001b[0m\u001b[0mlen\u001b[0m\u001b[1;33m(\u001b[0m\u001b[0mages\u001b[0m\u001b[1;33m)\u001b[0m\u001b[1;33m]\u001b[0m \u001b[1;33m=\u001b[0m \u001b[1;36m12\u001b[0m\u001b[1;33m\u001b[0m\u001b[1;33m\u001b[0m\u001b[0m\n\u001b[0m",
      "\u001b[1;31mIndexError\u001b[0m: list assignment index out of range"
     ]
    }
   ],
   "source": [
    "#Slicing returns a new list with the requested subset\n",
    "\n",
    "lastfromindex3 = ages[3:] #list from index 3 to end\n",
    "print(lastfromindex3)\n",
    "print(ages) #not changed\n",
    "\n",
    "copyall = ages[:]\n",
    "print(copyall)\n",
    "print(ages + copyall) #+ concatenates the lists into a new one\n",
    "\n",
    "# you can assign to a slice\n",
    "ages[2:4] = [60, 50] #change elements at index 2 upto index3 (since index 4 is not included)\n",
    "print(ages)\n",
    "\n",
    "#You can add more elements to an existing list\n",
    "ages.append(12)\n",
    "\n",
    "# Note that this will cause an error. The index must be between -length of the list and length of list-1\n",
    "ages[len(ages)] = 12"
   ]
  },
  {
   "cell_type": "markdown",
   "metadata": {},
   "source": [
    "## Multi-dimensional lists\n",
    "\n",
    "Lists can contain more lists. Consider and run the code below:"
   ]
  },
  {
   "cell_type": "code",
   "execution_count": 14,
   "metadata": {},
   "outputs": [
    {
     "name": "stdout",
     "output_type": "stream",
     "text": [
      "3\n"
     ]
    }
   ],
   "source": [
    "matrix = [ [1, 2, 3], [4, 5, 6], [7, 8, 9]]\n",
    "print(matrix[0][2])\n",
    "\n",
    "#Iterating through a multi-dimensional list\n",
    " sum = [] #initial an empty list\n",
    " for row in matrix: # each list within the outer list\n",
    "        sum.append(row)"
   ]
  },
  {
   "cell_type": "markdown",
   "metadata": {},
   "source": [
    "## Other cool methods and functions with lists\n",
    "\n",
    "W"
   ]
  }
 ],
 "metadata": {
  "kernelspec": {
   "display_name": "Python 3",
   "language": "python",
   "name": "python3"
  },
  "language_info": {
   "codemirror_mode": {
    "name": "ipython",
    "version": 3
   },
   "file_extension": ".py",
   "mimetype": "text/x-python",
   "name": "python",
   "nbconvert_exporter": "python",
   "pygments_lexer": "ipython3",
   "version": "3.7.1"
  }
 },
 "nbformat": 4,
 "nbformat_minor": 2
}
